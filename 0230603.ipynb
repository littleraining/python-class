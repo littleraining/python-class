{
  "nbformat": 4,
  "nbformat_minor": 0,
  "metadata": {
    "colab": {
      "provenance": [],
      "authorship_tag": "ABX9TyOJqZiIWUn+1DijwV1Ri6Jc"
    },
    "kernelspec": {
      "name": "python3",
      "display_name": "Python 3"
    },
    "language_info": {
      "name": "python"
    }
  },
  "cells": [
    {
      "cell_type": "code",
      "execution_count": 2,
      "metadata": {
        "colab": {
          "base_uri": "https://localhost:8080/"
        },
        "id": "izpWBi742Db1",
        "outputId": "c082b10c-0372-497a-9c9e-ba61e04bf0c0"
      },
      "outputs": [
        {
          "output_type": "stream",
          "name": "stdout",
          "text": [
            "True <class 'bool'>\n",
            "20 <class 'int'>\n",
            "3.14 <class 'float'>\n",
            "Hello <class 'str'>\n"
          ]
        }
      ],
      "source": [
        "b = True\n",
        "print(b, type(b))\n",
        "num = 20\n",
        "print(num,type(num))\n",
        "pi = 3.14\n",
        "print(pi,type(pi))\n",
        "s = 'Hello'\n",
        "print(s,type(s))"
      ]
    },
    {
      "cell_type": "code",
      "source": [
        "a = 1\n",
        "print(a,id(a))\n",
        "a = 'Python'\n",
        "print(a,id(a))"
      ],
      "metadata": {
        "colab": {
          "base_uri": "https://localhost:8080/"
        },
        "id": "qroUeZMh5zfI",
        "outputId": "7542913d-54d2-4fd4-9c3b-4a8aadd4d65f"
      },
      "execution_count": 3,
      "outputs": [
        {
          "output_type": "stream",
          "name": "stdout",
          "text": [
            "1 140108337692912\n",
            "Python 140108337640496\n"
          ]
        }
      ]
    },
    {
      "cell_type": "code",
      "source": [
        "a = 5\n",
        "print(a,id(a))\n",
        "a += 1\n",
        "print(a,id(a))"
      ],
      "metadata": {
        "colab": {
          "base_uri": "https://localhost:8080/"
        },
        "id": "CG1gUdHzCyXt",
        "outputId": "d5edbb6b-bb59-43c8-992b-a54478cceb16"
      },
      "execution_count": 4,
      "outputs": [
        {
          "output_type": "stream",
          "name": "stdout",
          "text": [
            "5 140108337693040\n",
            "6 140108337693072\n"
          ]
        }
      ]
    },
    {
      "cell_type": "code",
      "source": [
        "a = 10\n",
        "b = 10.5\n",
        "c = (a>b)\n",
        "d = (a!=b)\n",
        "\n",
        "print(a,type(a))\n",
        "print(b,type(b))\n",
        "print(c,type(c))\n",
        "print(d,type(d))\n",
        "\n",
        "print((a>5) and (a>11))\n",
        "print((a>5) or (a>11))"
      ],
      "metadata": {
        "colab": {
          "base_uri": "https://localhost:8080/"
        },
        "id": "Mt7ZI8MGF1MQ",
        "outputId": "d1b246ca-cc55-4002-e2b2-bc8080e86381"
      },
      "execution_count": 16,
      "outputs": [
        {
          "output_type": "stream",
          "name": "stdout",
          "text": [
            "10 <class 'int'>\n",
            "10.5 <class 'float'>\n",
            "False <class 'bool'>\n",
            "True <class 'bool'>\n",
            "False\n",
            "True\n"
          ]
        }
      ]
    },
    {
      "cell_type": "code",
      "source": [
        "c = 300\n",
        "p = 350\n",
        "v = 400\n",
        "\n",
        "cost = int(input('請輸入上衣數量?'))\n",
        "pant = int(input('請輸入褲子數量?'))\n",
        "vest = int(input('請輸入背心數量?'))\n",
        "\n",
        "T = c*cost + p*pant + v*vest\n",
        "print('訂購服裝的總金額為',T)\n"
      ],
      "metadata": {
        "colab": {
          "base_uri": "https://localhost:8080/"
        },
        "id": "3zDzKsKLH8OB",
        "outputId": "a26baf56-4ea0-404e-f421-f6facb438048"
      },
      "execution_count": 28,
      "outputs": [
        {
          "output_type": "stream",
          "name": "stdout",
          "text": [
            "請輸入上衣數量?30\n",
            "請輸入褲子數量?40\n",
            "請輸入背心數量?50\n",
            "訂購服裝的總金額為 43000\n"
          ]
        }
      ]
    },
    {
      "cell_type": "code",
      "source": [
        "上衣價格 = 300\n",
        "褲子價格 = 350\n",
        "背心價格 = 400\n",
        "\n",
        "上衣數量 = int(input('請輸入上衣數量?'))\n",
        "褲子數量 = int(input('請輸入褲子數量?'))\n",
        "背心數量 = int(input('請輸入背心數量?'))\n",
        "\n",
        "總額 = 上衣價格*上衣數量+褲子價格*褲子數量+背心價格*背心數量\n",
        "\n",
        "print(str(上衣價格),'*',str(上衣數量), '+', str(褲子價格), '*',str(褲子數量), '+',str(背心價格),'*', str(背心數量) , '=', 總額)"
      ],
      "metadata": {
        "colab": {
          "base_uri": "https://localhost:8080/"
        },
        "id": "RjCgCKeZPz5C",
        "outputId": "a1866c0c-63f3-48f6-e7d7-fdd54e2e832b"
      },
      "execution_count": 42,
      "outputs": [
        {
          "output_type": "stream",
          "name": "stdout",
          "text": [
            "請輸入上衣數量?2\n",
            "請輸入褲子數量?3\n",
            "請輸入背心數量?1\n",
            "300 * 2 + 350 * 3 + 400 * 1 = 2050\n"
          ]
        }
      ]
    },
    {
      "cell_type": "code",
      "source": [
        "s1 = '01234'\n",
        "s2 = '56789'\n",
        "s3 = (s1+s2)*10\n",
        "print(s3)"
      ],
      "metadata": {
        "colab": {
          "base_uri": "https://localhost:8080/"
        },
        "id": "qQlc_voES7UX",
        "outputId": "f169b862-b16b-4ea7-ebc4-85f58af852cc"
      },
      "execution_count": 33,
      "outputs": [
        {
          "output_type": "stream",
          "name": "stdout",
          "text": [
            "0123456789012345678901234567890123456789012345678901234567890123456789012345678901234567890123456789\n"
          ]
        }
      ]
    }
  ]
}
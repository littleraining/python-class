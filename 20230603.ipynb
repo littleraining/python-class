{
  "nbformat": 4,
  "nbformat_minor": 0,
  "metadata": {
    "colab": {
      "provenance": [],
      "authorship_tag": "ABX9TyPshjVmw5I1CoBq+vr+lapc"
    },
    "kernelspec": {
      "name": "python3",
      "display_name": "Python 3"
    },
    "language_info": {
      "name": "python"
    }
  },
  "cells": [
    {
      "cell_type": "code",
      "execution_count": 2,
      "metadata": {
        "colab": {
          "base_uri": "https://localhost:8080/"
        },
        "id": "izpWBi742Db1",
        "outputId": "c082b10c-0372-497a-9c9e-ba61e04bf0c0"
      },
      "outputs": [
        {
          "output_type": "stream",
          "name": "stdout",
          "text": [
            "True <class 'bool'>\n",
            "20 <class 'int'>\n",
            "3.14 <class 'float'>\n",
            "Hello <class 'str'>\n"
          ]
        }
      ],
      "source": [
        "b = True\n",
        "print(b, type(b))\n",
        "num = 20\n",
        "print(num,type(num))\n",
        "pi = 3.14\n",
        "print(pi,type(pi))\n",
        "s = 'Hello'\n",
        "print(s,type(s))"
      ]
    },
    {
      "cell_type": "code",
      "source": [
        "a = 1\n",
        "print(a,id(a))\n",
        "a = 'Python'\n",
        "print(a,id(a))"
      ],
      "metadata": {
        "colab": {
          "base_uri": "https://localhost:8080/"
        },
        "id": "qroUeZMh5zfI",
        "outputId": "7542913d-54d2-4fd4-9c3b-4a8aadd4d65f"
      },
      "execution_count": 3,
      "outputs": [
        {
          "output_type": "stream",
          "name": "stdout",
          "text": [
            "1 140108337692912\n",
            "Python 140108337640496\n"
          ]
        }
      ]
    },
    {
      "cell_type": "code",
      "source": [
        "a = 5\n",
        "print(a,id(a))\n",
        "a += 1\n",
        "print(a,id(a))"
      ],
      "metadata": {
        "colab": {
          "base_uri": "https://localhost:8080/"
        },
        "id": "CG1gUdHzCyXt",
        "outputId": "d5edbb6b-bb59-43c8-992b-a54478cceb16"
      },
      "execution_count": 4,
      "outputs": [
        {
          "output_type": "stream",
          "name": "stdout",
          "text": [
            "5 140108337693040\n",
            "6 140108337693072\n"
          ]
        }
      ]
    }
  ]
}